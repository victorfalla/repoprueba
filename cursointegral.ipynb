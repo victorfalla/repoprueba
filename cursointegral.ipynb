{
 "cells": [
  {
   "cell_type": "markdown",
   "metadata": {},
   "source": [
    "i = 1\n",
    "while i <= 10:\n",
    "    numero = int(input('ingrese un número entero: '))\n",
    "    i +=1\n",
    "    \n",
    "if numero % 2 == 0:\n",
    "    print('hay', len(numero))"
   ]
  },
  {
   "cell_type": "code",
   "execution_count": 13,
   "metadata": {},
   "outputs": [
    {
     "name": "stdin",
     "output_type": "stream",
     "text": [
      "ingrese un número entero:  2\n",
      "ingrese un número entero:  5\n",
      "ingrese un número entero:  7\n",
      "ingrese un número entero:  0\n",
      "ingrese un número entero:  5\n",
      "ingrese un número entero:  8\n",
      "ingrese un número entero:  2\n",
      "ingrese un número entero:  0\n",
      "ingrese un número entero:  3\n",
      "ingrese un número entero:  7\n"
     ]
    },
    {
     "name": "stdout",
     "output_type": "stream",
     "text": [
      "hay 3 pares\n",
      "hay 5 impares\n"
     ]
    }
   ],
   "source": [
    "i = 1 \n",
    "par,impar = 0,0\n",
    "while i <= 10:\n",
    "    numero = int(input('ingrese un número entero: '))\n",
    "    if numero == 0:\n",
    "        pass\n",
    "    elif numero % 2 == 0: \n",
    "        par +=1\n",
    "    else:\n",
    "        impar +=1\n",
    "    i+=1\n",
    "\n",
    "print('hay',par,'pares')\n",
    "print('hay',impar,'impares')"
   ]
  },
  {
   "cell_type": "code",
   "execution_count": 25,
   "metadata": {},
   "outputs": [
    {
     "name": "stdin",
     "output_type": "stream",
     "text": [
      "ingrese un número:  134\n"
     ]
    },
    {
     "name": "stdout",
     "output_type": "stream",
     "text": [
      "431\n"
     ]
    }
   ],
   "source": [
    "n = int(input('ingrese un número: '))\n",
    "if n < 10:\n",
    "    print(n)\n",
    "else:\n",
    "    while n >= 10:\n",
    "        print(n%10, end='')\n",
    "        n = n//10\n",
    "        if n < 10:\n",
    "            print(n)"
   ]
  },
  {
   "cell_type": "code",
   "execution_count": 58,
   "metadata": {},
   "outputs": [
    {
     "name": "stdout",
     "output_type": "stream",
     "text": [
      "1\n",
      "1\n",
      "2\n",
      "3\n",
      "5\n",
      "8\n",
      "13\n"
     ]
    }
   ],
   "source": [
    "#secuencia de fibonacci\n",
    "n1 = 1\n",
    "n2 = 1\n",
    "prox = n1+n2\n",
    "while n1 <= 20:\n",
    "    print(n1)\n",
    "    n1=n2\n",
    "    n2=prox\n",
    "    prox = n1+n2\n",
    "\n"
   ]
  },
  {
   "cell_type": "code",
   "execution_count": 59,
   "metadata": {},
   "outputs": [
    {
     "name": "stdin",
     "output_type": "stream",
     "text": [
      "ingrese el tamaño del conjunto:  10\n",
      "ingrese el elemento del conjunto:  4\n",
      "ingrese el elemento del conjunto:  6\n",
      "ingrese el elemento del conjunto:  3\n",
      "ingrese el elemento del conjunto:  1\n",
      "ingrese el elemento del conjunto:  8\n",
      "ingrese el elemento del conjunto:  10\n",
      "ingrese el elemento del conjunto:  34\n",
      "ingrese el elemento del conjunto:  7\n",
      "ingrese el elemento del conjunto:  8\n",
      "ingrese el elemento del conjunto:  2\n"
     ]
    },
    {
     "name": "stdout",
     "output_type": "stream",
     "text": [
      "menor valor:  1\n",
      "suma:  83\n"
     ]
    }
   ],
   "source": [
    "N = int(input('ingrese el tamaño del conjunto: '))\n",
    "\n",
    "while N <=0:\n",
    "    N = int(input('ingrese un número positivo'))\n",
    "    \n",
    "suma = 0\n",
    "\n",
    "for k in range(0,N):\n",
    "    numero = int(input('ingrese el elemento del conjunto: '))\n",
    "    if k == 0:\n",
    "        menor = numero\n",
    "    \n",
    "    suma += numero\n",
    "    \n",
    "    if numero <= menor:\n",
    "        menor = numero\n",
    "\n",
    "print('menor valor: ',menor)\n",
    "print('suma: ', suma)"
   ]
  },
  {
   "cell_type": "code",
   "execution_count": 66,
   "metadata": {},
   "outputs": [
    {
     "ename": "UnboundLocalError",
     "evalue": "local variable 'suma' referenced before assignment",
     "output_type": "error",
     "traceback": [
      "\u001b[0;31m---------------------------------------------------------------------------\u001b[0m",
      "\u001b[0;31mUnboundLocalError\u001b[0m                         Traceback (most recent call last)",
      "\u001b[0;32m<ipython-input-66-9ca36b7789e0>\u001b[0m in \u001b[0;36m<module>\u001b[0;34m\u001b[0m\n\u001b[1;32m      8\u001b[0m     \u001b[0mprint\u001b[0m\u001b[0;34m(\u001b[0m\u001b[0msuma\u001b[0m\u001b[0;34m)\u001b[0m\u001b[0;34m\u001b[0m\u001b[0;34m\u001b[0m\u001b[0m\n\u001b[1;32m      9\u001b[0m \u001b[0;34m\u001b[0m\u001b[0m\n\u001b[0;32m---> 10\u001b[0;31m \u001b[0mprint\u001b[0m\u001b[0;34m(\u001b[0m\u001b[0msuma_lista\u001b[0m\u001b[0;34m(\u001b[0m\u001b[0;34m[\u001b[0m\u001b[0;36m3\u001b[0m\u001b[0;34m,\u001b[0m\u001b[0;36m4\u001b[0m\u001b[0;34m,\u001b[0m\u001b[0;36m5\u001b[0m\u001b[0;34m]\u001b[0m\u001b[0;34m)\u001b[0m\u001b[0;34m)\u001b[0m\u001b[0;34m\u001b[0m\u001b[0;34m\u001b[0m\u001b[0m\n\u001b[0m",
      "\u001b[0;32m<ipython-input-66-9ca36b7789e0>\u001b[0m in \u001b[0;36msuma_lista\u001b[0;34m(lista)\u001b[0m\n\u001b[1;32m      5\u001b[0m \u001b[0;32mdef\u001b[0m \u001b[0msuma_lista\u001b[0m\u001b[0;34m(\u001b[0m\u001b[0mlista\u001b[0m\u001b[0;34m)\u001b[0m\u001b[0;34m:\u001b[0m\u001b[0;34m\u001b[0m\u001b[0;34m\u001b[0m\u001b[0m\n\u001b[1;32m      6\u001b[0m     \u001b[0;32mfor\u001b[0m \u001b[0mn\u001b[0m \u001b[0;32min\u001b[0m \u001b[0mrange\u001b[0m\u001b[0;34m(\u001b[0m\u001b[0mlen\u001b[0m\u001b[0;34m(\u001b[0m\u001b[0mlista\u001b[0m\u001b[0;34m)\u001b[0m\u001b[0;34m)\u001b[0m\u001b[0;34m:\u001b[0m\u001b[0;34m\u001b[0m\u001b[0;34m\u001b[0m\u001b[0m\n\u001b[0;32m----> 7\u001b[0;31m         \u001b[0msuma\u001b[0m \u001b[0;34m=\u001b[0m \u001b[0msuma\u001b[0m \u001b[0;34m+\u001b[0m \u001b[0mlista\u001b[0m\u001b[0;34m[\u001b[0m\u001b[0mn\u001b[0m\u001b[0;34m]\u001b[0m\u001b[0;34m\u001b[0m\u001b[0;34m\u001b[0m\u001b[0m\n\u001b[0m\u001b[1;32m      8\u001b[0m     \u001b[0mprint\u001b[0m\u001b[0;34m(\u001b[0m\u001b[0msuma\u001b[0m\u001b[0;34m)\u001b[0m\u001b[0;34m\u001b[0m\u001b[0;34m\u001b[0m\u001b[0m\n\u001b[1;32m      9\u001b[0m \u001b[0;34m\u001b[0m\u001b[0m\n",
      "\u001b[0;31mUnboundLocalError\u001b[0m: local variable 'suma' referenced before assignment"
     ]
    }
   ],
   "source": [
    "#implemente una función que reciba como parametro una lista con número enteros y retorne\n",
    "#un numero entero correspondiente a la suma de los elementos de la lista\n",
    "lista = []\n",
    "suma = 0\n",
    "def suma_lista(lista):\n",
    "    for n in range(len(lista)):\n",
    "        suma = suma + lista[n]\n",
    "    print(suma)\n",
    "    \n",
    "print(suma_lista([3,4,5]))"
   ]
  },
  {
   "cell_type": "code",
   "execution_count": 95,
   "metadata": {},
   "outputs": [
    {
     "name": "stdout",
     "output_type": "stream",
     "text": [
      "son iguales\n"
     ]
    }
   ],
   "source": [
    "#implemente una funcion maximo que reciba dos numeros enteros como parametro y retorne el mayor\n",
    "\n",
    "def mayor(x,y):\n",
    "    if x < y:\n",
    "        return 'el mayor es {}'.format(y)\n",
    "    elif y<x:\n",
    "        return 'el mayor es {}'.format(x)\n",
    "    else:\n",
    "        return 'son iguales'\n",
    "\n",
    "print(mayor(30,30))"
   ]
  },
  {
   "cell_type": "code",
   "execution_count": 97,
   "metadata": {},
   "outputs": [
    {
     "name": "stdout",
     "output_type": "stream",
     "text": [
      "598\n"
     ]
    }
   ],
   "source": [
    "#progrecion aritmentica 1\n",
    "def rectangulos(n):\n",
    "    a1 = 1\n",
    "    r_linea = 1\n",
    "    r_columna = 2\n",
    "    for i in range(1,n+1):\n",
    "        a_linea = a1 + (i-1)*r_linea\n",
    "        a_columna = a1 + (i-1)*r_columna\n",
    "    return 2*(a_linea*1 + a_columna*1)\n",
    "print(rectangulos(100))"
   ]
  },
  {
   "cell_type": "code",
   "execution_count": 104,
   "metadata": {},
   "outputs": [
    {
     "name": "stdout",
     "output_type": "stream",
     "text": [
      "651.0\n"
     ]
    }
   ],
   "source": [
    "#progracion aritmetica 2\n",
    "def sequencia(n):\n",
    "    for i in range(1,n+1):\n",
    "        numero = (i+1)*((3*i)+2)/2\n",
    "    return numero\n",
    "print(sequencia(20))"
   ]
  },
  {
   "cell_type": "code",
   "execution_count": 3,
   "metadata": {},
   "outputs": [
    {
     "name": "stdin",
     "output_type": "stream",
     "text": [
      "Ingrese el número a descomponer:  45\n"
     ]
    },
    {
     "name": "stdout",
     "output_type": "stream",
     "text": [
      "45=3*3*5\n"
     ]
    }
   ],
   "source": [
    "#descomponiendo numero en factor primo\n",
    "n = int(input('Ingrese el número a descomponer: '))\n",
    "\n",
    "divisor = 2\n",
    "n_inicial = n\n",
    "\n",
    "print(n_inicial,'=',sep='',end='')\n",
    "while n > 1:\n",
    "    while n % divisor == 0:\n",
    "        n = n/divisor\n",
    "        if n == 1:\n",
    "            print(divisor)\n",
    "        else:\n",
    "            print(divisor,'*',sep='',end='')\n",
    "    divisor += 1\n",
    "\n",
    "if n_inicial == divisor - 1:\n",
    "    print('Es un número primo')"
   ]
  },
  {
   "cell_type": "code",
   "execution_count": 15,
   "metadata": {},
   "outputs": [
    {
     "name": "stdout",
     "output_type": "stream",
     "text": [
      "el mayor divisor es: 5\n"
     ]
    }
   ],
   "source": [
    "#ejemplo numero primo mayor\n",
    "\n",
    "def maior_primo(n):\n",
    "    divisor = 2\n",
    "    n_inicial = n\n",
    "    while n > 1:\n",
    "        while n % divisor == 0:\n",
    "            n = n/divisor\n",
    "            if n == 1:\n",
    "                return 'el mayor divisor es: {}'.format(divisor)\n",
    "        divisor += 1\n",
    "    \n",
    "print(maior_primo(100))"
   ]
  },
  {
   "cell_type": "code",
   "execution_count": 24,
   "metadata": {},
   "outputs": [
    {
     "name": "stdout",
     "output_type": "stream",
     "text": [
      "21\n"
     ]
    }
   ],
   "source": [
    "# funcion que recibe una lista y devuelve el mayor valor de la lista\n",
    "\n",
    "def maior_elemento(lista):\n",
    "    mayor = lista[0]\n",
    "    for i in range(1, len(lista)):\n",
    "        if lista[i] > mayor:\n",
    "            mayor = lista[i]\n",
    "    return mayor\n",
    "\n",
    "print(maior_elemento([5,2,21,8,1,14]))"
   ]
  },
  {
   "cell_type": "code",
   "execution_count": 67,
   "metadata": {},
   "outputs": [
    {
     "name": "stdout",
     "output_type": "stream",
     "text": [
      "[10, 9, 8, 7, 6, 5, 4, 3, 2, 1]\n"
     ]
    }
   ],
   "source": [
    "#programa que muestre un vector de 10 elementos y lo muestre de forma inversa\n",
    "#hecho con recursividad\n",
    "def inversa(vector):\n",
    "    if vector == []:\n",
    "        inversa1 = vector\n",
    "    else:\n",
    "        inversa1 = [vector[-1]] + inversa(vector[:-1])\n",
    "    return inversa1\n",
    "\n",
    "print(inversa([1,2,3,4,5,6,7,8,9,10]))"
   ]
  },
  {
   "cell_type": "code",
   "execution_count": 70,
   "metadata": {},
   "outputs": [
    {
     "name": "stdout",
     "output_type": "stream",
     "text": [
      "10\n",
      "9\n",
      "8\n",
      "7\n",
      "6\n",
      "5\n",
      "4\n",
      "3\n",
      "2\n",
      "1\n"
     ]
    }
   ],
   "source": [
    "#sin recursividad\n",
    "vector = [1,2,3,4,5,6,7,8,9,10]\n",
    "tam = len(vector)-1\n",
    "while tam >= 0:\n",
    "    print(vector[tam])\n",
    "    tam = tam - 1"
   ]
  },
  {
   "cell_type": "code",
   "execution_count": 147,
   "metadata": {},
   "outputs": [
    {
     "name": "stdout",
     "output_type": "stream",
     "text": [
      "1\n",
      "22\n",
      "333\n",
      "4444\n",
      "<class 'NoneType'>\n"
     ]
    }
   ],
   "source": [
    "#forma 1\n",
    "def lineas(n):\n",
    "    a = 0\n",
    "    suma = 0\n",
    "    for i in range(1,n+1):\n",
    "        if n == 1:\n",
    "            return 1\n",
    "        else:\n",
    "            numero = 10**a\n",
    "            suma = suma + numero\n",
    "            a+=1\n",
    "            b= i*suma\n",
    "            print(b)\n",
    "a = lineas(4)"
   ]
  },
  {
   "cell_type": "code",
   "execution_count": 146,
   "metadata": {},
   "outputs": [
    {
     "name": "stdout",
     "output_type": "stream",
     "text": [
      "1\n",
      "22\n",
      "333\n",
      "4444\n",
      "<class 'NoneType'>\n"
     ]
    }
   ],
   "source": [
    "#forma 2\n",
    "def imprime(n):\n",
    "    for i in range(n):\n",
    "        i += 1\n",
    "        print(str(i) * i)\n",
    "\n",
    "a = imprime(4)"
   ]
  },
  {
   "cell_type": "code",
   "execution_count": 162,
   "metadata": {},
   "outputs": [
    {
     "name": "stdout",
     "output_type": "stream",
     "text": [
      "el número tiene 7 dígitos\n"
     ]
    }
   ],
   "source": [
    "#implemente una funcion que reciba un parametro e informe la cantidad de digitos que tiene ese parametro\n",
    "\n",
    "def quant_digitos(n):\n",
    "    return len(str(n))\n",
    "\n",
    "a = quant_digitos(1456453)       \n",
    "print('el número tiene',a,'dígitos')"
   ]
  },
  {
   "cell_type": "code",
   "execution_count": 163,
   "metadata": {},
   "outputs": [
    {
     "data": {
      "text/plain": [
       "65536"
      ]
     },
     "execution_count": 163,
     "metadata": {},
     "output_type": "execute_result"
    }
   ],
   "source": [
    "def potencia(k):\n",
    "    a = 2**(2**k)\n",
    "    return a\n",
    "potencia(4)"
   ]
  },
  {
   "cell_type": "code",
   "execution_count": 164,
   "metadata": {},
   "outputs": [
    {
     "data": {
      "text/plain": [
       "24"
      ]
     },
     "execution_count": 164,
     "metadata": {},
     "output_type": "execute_result"
    }
   ],
   "source": [
    "#factorial con recursion\n",
    "def factorial(n):\n",
    "    if n == 0:\n",
    "        return 1\n",
    "    else:\n",
    "        return n*factorial(n-1)\n",
    "\n",
    "factorial(4)"
   ]
  },
  {
   "cell_type": "code",
   "execution_count": 168,
   "metadata": {},
   "outputs": [
    {
     "data": {
      "text/plain": [
       "32"
      ]
     },
     "execution_count": 168,
     "metadata": {},
     "output_type": "execute_result"
    }
   ],
   "source": [
    "def potencia(a,b):\n",
    "    if b == 0:\n",
    "        return 1\n",
    "    else:\n",
    "        return a*potencia(a,b-1)\n",
    "\n",
    "potencia(2,5)"
   ]
  },
  {
   "cell_type": "code",
   "execution_count": 177,
   "metadata": {},
   "outputs": [
    {
     "name": "stdout",
     "output_type": "stream",
     "text": [
      "9227465\n",
      "tiempo gastado:  2.949479818344116\n"
     ]
    }
   ],
   "source": [
    "#secuencia de fibonacci por recursion\n",
    "import time\n",
    "\n",
    "def fib_rec(n):\n",
    "    if n == 1:\n",
    "        return 1\n",
    "    elif n == 2:\n",
    "        return 1\n",
    "    else:\n",
    "        return fib_rec(n-2) + fib_rec(n-1)\n",
    "\n",
    "inicio = time.time()\n",
    "print(fib_rec(35))\n",
    "fin = time.time()\n",
    "print('tiempo gastado: ', fin - inicio)            "
   ]
  },
  {
   "cell_type": "code",
   "execution_count": 178,
   "metadata": {},
   "outputs": [
    {
     "name": "stdout",
     "output_type": "stream",
     "text": [
      "9227465\n",
      "tiempo gastado:  0.0003209114074707031\n"
     ]
    }
   ],
   "source": [
    "#secuencia de fibonacci por iteracion\n",
    "import time\n",
    "\n",
    "def fib_ite(n):\n",
    "    n1=n2=1\n",
    "    for i in range(3,n+1):\n",
    "        prox = n1+n2\n",
    "        n1=n2\n",
    "        n2=prox\n",
    "    return n2\n",
    "\n",
    "inicio = time.time()\n",
    "print(fib_ite(35))\n",
    "fin = time.time()\n",
    "print('tiempo gastado: ', fin - inicio)  "
   ]
  },
  {
   "cell_type": "code",
   "execution_count": 180,
   "metadata": {},
   "outputs": [
    {
     "data": {
      "text/plain": [
       "[[0, 0, 0], [0, 0, 0], [0, 0, 0]]"
      ]
     },
     "execution_count": 180,
     "metadata": {},
     "output_type": "execute_result"
    }
   ],
   "source": [
    "#funcion que crea una matriz\n",
    "def matriz(filas,columnas):\n",
    "    matriz = []\n",
    "    for i in range(filas):\n",
    "        filas = []\n",
    "        for j in range(columnas):\n",
    "            elemento = 0\n",
    "            filas.append(elemento)\n",
    "        matriz.append(filas)\n",
    "    return matriz\n",
    "\n",
    "matriz(3,3)\n",
    "        "
   ]
  },
  {
   "cell_type": "code",
   "execution_count": 182,
   "metadata": {},
   "outputs": [
    {
     "name": "stdin",
     "output_type": "stream",
     "text": [
      "valor de: M[1][1]= 3\n",
      "valor de: M[1][2]= 2\n",
      "valor de: M[1][3]= 1\n",
      "valor de: M[2][1]= 4\n",
      "valor de: M[2][2]= 5\n",
      "valor de: M[2][3]= 2\n",
      "valor de: M[3][1]= 7\n",
      "valor de: M[3][2]= 9\n",
      "valor de: M[3][3]= 4\n"
     ]
    },
    {
     "data": {
      "text/plain": [
       "[[3, 2, 1], [4, 5, 2], [7, 9, 4]]"
      ]
     },
     "execution_count": 182,
     "metadata": {},
     "output_type": "execute_result"
    }
   ],
   "source": [
    "def matriz2(filas,columnas):\n",
    "    matriz = []\n",
    "    for i in range(filas):\n",
    "        filas = []\n",
    "        for j in range(columnas):\n",
    "            elemento = int(input('valor de: M['+str(i+1)+']['+str(j+1)+']='))\n",
    "            filas.append(elemento)\n",
    "        matriz.append(filas)\n",
    "    return matriz\n",
    "\n",
    "matriz2(3,3)"
   ]
  },
  {
   "cell_type": "code",
   "execution_count": 185,
   "metadata": {},
   "outputs": [
    {
     "name": "stdout",
     "output_type": "stream",
     "text": [
      "  2   3   4 \n",
      " 10  50  80 \n",
      "300 600 550 \n"
     ]
    }
   ],
   "source": [
    "#imprimir una matriz\n",
    "def imprime_matriz(matriz):\n",
    "    filas = len(matriz)\n",
    "    columnas = len(matriz[0])\n",
    "    for i in range(filas):\n",
    "        for j in range(columnas):\n",
    "            print('{0:3d} '.format(matriz[i][j]), end='')\n",
    "        print()\n",
    "\n",
    "a = [[2,3,4],[10,50,80],[300,600,550]]\n",
    "imprime_matriz(a)"
   ]
  },
  {
   "cell_type": "code",
   "execution_count": 195,
   "metadata": {},
   "outputs": [
    {
     "name": "stdout",
     "output_type": "stream",
     "text": [
      "2 x 3\n"
     ]
    }
   ],
   "source": [
    "def dimension(matriz):\n",
    "    i = len(matriz) \n",
    "    j = len(matriz[0])\n",
    "    print(i,'x',j)\n",
    "dimension([[2,3,4],[10,50,80]])"
   ]
  },
  {
   "cell_type": "code",
   "execution_count": 204,
   "metadata": {},
   "outputs": [],
   "source": [
    "#suma de matrices\n",
    "def matriz(filas,columnas):\n",
    "    matriz = []\n",
    "    for i in range(filas):\n",
    "        filas = []\n",
    "        for j in range(columnas):\n",
    "            elemento = 0\n",
    "            filas.append(elemento)\n",
    "        matriz.append(filas)\n",
    "    return matriz\n",
    "\n",
    "def soma_matrizes(matrizA,matrizB):\n",
    "    filas = len(matrizA)\n",
    "    columnas = len(matrizA[0])\n",
    "    matriz_suma = matriz(filas,columnas)\n",
    "    if len(matrizA) != len(matrizB) and len(matrizA[0]) != len(matrizB[0]):\n",
    "        print(False)\n",
    "    else:\n",
    "        for i in range(filas):\n",
    "            for j in range(columnas):\n",
    "                matriz_suma[i][j] = matrizA[i][j]+matrizB[i][j]\n",
    "        return matriz_suma"
   ]
  },
  {
   "cell_type": "code",
   "execution_count": 205,
   "metadata": {},
   "outputs": [
    {
     "name": "stdout",
     "output_type": "stream",
     "text": [
      "False\n"
     ]
    }
   ],
   "source": [
    "a = [[2, 3, 4], [10, 50, 80], [300, 600, 550]]\n",
    "b = [[5,2,1],[10,6,8],[3,2,1]]\n",
    "c = [[1,2],[4,5]]\n",
    "suma_matrices(a,b)\n",
    "suma_matrices(b,c)"
   ]
  },
  {
   "cell_type": "code",
   "execution_count": 206,
   "metadata": {},
   "outputs": [],
   "source": [
    "#tarea 6\n",
    "import sys\n",
    "def multiplicacao(vetor,matrizB):\n",
    "    matrizA=[]\n",
    "    matrizResultado = []\n",
    "    if len(matrizB) == len(matrizB[0]):\n",
    "        linhaB = colunaB = len(matrizB)\n",
    "    else:\n",
    "        print(\"matriz não é quadrada!\")\n",
    "        sys.exit()\n",
    "    for i in range(linhaB):\n",
    "        matrizA.append([])\n",
    "        for j in range(colunaB):\n",
    "            matrizA[i].append(0)\n",
    "        matrizA[i][vetor[i]-1] = 1\n",
    "    for i in range(linhaB):\n",
    "        matrizResultado.append([])\n",
    "        for j in range(colunaB):\n",
    "            matrizResultado[i].append(0)\n",
    "            for k in range(colunaB):\n",
    "                matrizResultado[i][j]+= matrizA[i][k]*matrizB[k][j]\n",
    "\n",
    "    return matrizResultado \n",
    "\n"
   ]
  },
  {
   "cell_type": "code",
   "execution_count": 221,
   "metadata": {},
   "outputs": [
    {
     "name": "stdout",
     "output_type": "stream",
     "text": [
      "45.0\n"
     ]
    }
   ],
   "source": [
    "#para obtener el angulo\n",
    "import cmath\n",
    "z = 7.07 + 7.07j\n",
    "a = cmath.phase(complex(7.07,7.07))\n",
    "b = a * 180/cmath.pi # para obtenerlo en grados\n",
    "print(b)"
   ]
  },
  {
   "cell_type": "code",
   "execution_count": 249,
   "metadata": {},
   "outputs": [
    {
     "data": {
      "text/plain": [
       "((-15.483314773547882+0j), (-0.1291713066130293-0j))"
      ]
     },
     "execution_count": 249,
     "metadata": {},
     "output_type": "execute_result"
    }
   ],
   "source": [
    "import math\n",
    "import cmath #permite valores imaginarios\n",
    "def raizes(a,b,c):\n",
    "    delta = (b**2)-4*a*c\n",
    "    if b >= 0:\n",
    "        raiz1 = (-b - cmath.sqrt(delta))/2*a\n",
    "        raiz2 = (2*c)/(-b-cmath.sqrt(delta))\n",
    "    else: \n",
    "        raiz1 = (-b + cmath.sqrt(delta))/2*a\n",
    "        raiz2 = (2*c)/(-b+cmath.sqrt(delta))\n",
    "         \n",
    "    return raiz1,raiz2\n",
    "\n",
    "raizes(2,8,1)"
   ]
  },
  {
   "cell_type": "code",
   "execution_count": 5,
   "metadata": {},
   "outputs": [
    {
     "name": "stdout",
     "output_type": "stream",
     "text": [
      "[[16 20]\n",
      " [38 42]]\n"
     ]
    }
   ],
   "source": [
    "#Matrices - Multiplicacion\n",
    "import numpy as np\n",
    "m1 = np.array([[1,2],[3,4]])\n",
    "m2 = np.array([[6,2],[5,9]])\n",
    "m3 = np.dot(m1,m2)\n",
    "print(m3)"
   ]
  },
  {
   "cell_type": "code",
   "execution_count": 6,
   "metadata": {},
   "outputs": [
    {
     "name": "stdout",
     "output_type": "stream",
     "text": [
      "[[-0.47727273  0.22727273]\n",
      " [ 0.43181818 -0.18181818]]\n"
     ]
    }
   ],
   "source": [
    "#matriz inversa\n",
    "m4 = np.linalg.inv(m3)\n",
    "print(m4)"
   ]
  },
  {
   "cell_type": "code",
   "execution_count": 7,
   "metadata": {},
   "outputs": [],
   "source": [
    "#DETERMINANTE"
   ]
  },
  {
   "cell_type": "code",
   "execution_count": 8,
   "metadata": {},
   "outputs": [
    {
     "name": "stdout",
     "output_type": "stream",
     "text": [
      "-88.00000000000003\n"
     ]
    }
   ],
   "source": [
    "#de una matriz 2x2\n",
    "det_m3 = np.linalg.det(m3)\n",
    "print(det_m3)"
   ]
  },
  {
   "cell_type": "code",
   "execution_count": 11,
   "metadata": {},
   "outputs": [
    {
     "name": "stdout",
     "output_type": "stream",
     "text": [
      "23.0\n"
     ]
    }
   ],
   "source": [
    "#de una matriz 3x3\n",
    "matriz_3 = np.array([[2,1,3],[1,-1,5],[3,1,-2]],int)\n",
    "det_matriz3 = np.linalg.det(matriz_3)\n",
    "print(det_matriz3)"
   ]
  },
  {
   "cell_type": "code",
   "execution_count": 13,
   "metadata": {},
   "outputs": [
    {
     "name": "stdout",
     "output_type": "stream",
     "text": [
      "[1 4]\n",
      "[2 5]\n",
      "[4 5 6]\n"
     ]
    }
   ],
   "source": [
    "#obteniendo informacion de una matriz\n",
    "m = np.array([[1,2,3],[4,5,6]])\n",
    "print(m[:,0])\n",
    "print(m[:,1])\n",
    "print(m[1,:])"
   ]
  },
  {
   "cell_type": "code",
   "execution_count": 17,
   "metadata": {},
   "outputs": [
    {
     "name": "stdout",
     "output_type": "stream",
     "text": [
      "[ 0.  1.  2.  3.  4.  5.  6.  7.  8.  9. 10.]\n",
      "[1.55 5.9  7.9  8.45 7.23 1.23 3.65 2.09 4.67 6.34 9.06]\n",
      "[0.46 7.98 6.89 5.76 3.45 4.24 1.25 5.55 3.54 0.07 2.21]\n"
     ]
    },
    {
     "data": {
      "text/plain": [
       "(11, 3)"
      ]
     },
     "execution_count": 17,
     "metadata": {},
     "output_type": "execute_result"
    }
   ],
   "source": [
    "#importar datos txt, que se encuentran en la misma carpeta\n",
    "import numpy as np\n",
    "dados = np.loadtxt('dados.txt',skiprows=1)\n",
    "x = dados[:,0]\n",
    "y = dados[:,1]\n",
    "z = dados[:,2]\n",
    "print(x)\n",
    "print(y)\n",
    "print(z)\n",
    "dados.shape"
   ]
  },
  {
   "cell_type": "code",
   "execution_count": 19,
   "metadata": {},
   "outputs": [
    {
     "name": "stdout",
     "output_type": "stream",
     "text": [
      "[ 0.  1.  2.  3.  4.  5.  6.  7.  8.  9. 10.]\n",
      "[1.55 5.9  7.9  8.45 7.23 1.23 3.65 2.09 4.67 6.34 9.06]\n",
      "[0.46 7.98 6.89 5.76 3.45 4.24 1.25 5.55 3.54 0.07 2.21]\n"
     ]
    }
   ],
   "source": [
    "#otro modo\n",
    "import numpy as np\n",
    "a,b,c = np.loadtxt('dados.txt',skiprows=1,unpack=True)\n",
    "print(a)\n",
    "print(b)\n",
    "print(c)"
   ]
  },
  {
   "cell_type": "code",
   "execution_count": 28,
   "metadata": {},
   "outputs": [
    {
     "name": "stdout",
     "output_type": "stream",
     "text": [
      "[[10.  9.  8.  9.]\n",
      " [ 8.  7.  7.  8.]\n",
      " [ 4.  5.  2.  6.]\n",
      " [ 4.  2.  4.  5.]\n",
      " [ 5.  6.  2.  7.]]\n",
      "9.0\n",
      "9.0\n",
      "8.0\n",
      "5.0\n"
     ]
    }
   ],
   "source": [
    "#importar datos genfromtxt, importar archivos .csv\n",
    "#delimiter = pues vemos que el archivos esta separado por comas\n",
    "#skip_header = para saltar la primera fila \n",
    "#usecols = elegir las columnas de interes\n",
    "import numpy as np\n",
    "tabla = np.genfromtxt('exemplo.csv',delimiter=',',skip_header=1,usecols=range(1,5))\n",
    "print(tabla)\n",
    "\n",
    "#para sacar promedio de cada alumno\n",
    "media_alumno1 = sum(tabla[0,:])/len(tabla[0,:])\n",
    "print(media_alumno1)\n",
    "#otra forma\n",
    "media_alumno1 = np.mean(tabla[0,:])\n",
    "print(media_alumno1)\n",
    "#maxima y minima nota en fisica y geografia\n",
    "max_nota_fisica = np.max(tabla[:,2])\n",
    "print(max_nota_fisica)\n",
    "min_nota_geografia = np.min(tabla[:,3])\n",
    "print(min_nota_geografia)"
   ]
  },
  {
   "cell_type": "code",
   "execution_count": 39,
   "metadata": {},
   "outputs": [
    {
     "data": {
      "image/png": "[encoded data removed]",
      "text/plain": [
       "<Figure size 432x288 with 1 Axes>"
      ]
     },
     "metadata": {
      "needs_background": "light"
     },
     "output_type": "display_data"
    }
   ],
   "source": [
    "#MATPLOTLIB\n",
    "import numpy as np\n",
    "import pylab as plt\n",
    "x = np.arange(0,10)\n",
    "y = x**2\n",
    "plt.plot(x,y,'r')\n",
    "plt.show()"
   ]
  },
  {
   "cell_type": "code",
   "execution_count": 36,
   "metadata": {},
   "outputs": [
    {
     "data": {
      "image/png": "[encoded data removed]",
      "text/plain": [
       "<Figure size 432x288 with 1 Axes>"
      ]
     },
     "metadata": {
      "needs_background": "light"
     },
     "output_type": "display_data"
    }
   ],
   "source": [
    "plt.plot(x,y,'k--')\n",
    "plt.show()"
   ]
  },
  {
   "cell_type": "code",
   "execution_count": 37,
   "metadata": {},
   "outputs": [
    {
     "data": {
      "image/png": "[encoded data removed]",
      "text/plain": [
       "<Figure size 432x288 with 1 Axes>"
      ]
     },
     "metadata": {
      "needs_background": "light"
     },
     "output_type": "display_data"
    }
   ],
   "source": [
    "plt.plot(x,y,'go')\n",
    "plt.show()"
   ]
  },
  {
   "cell_type": "code",
   "execution_count": 38,
   "metadata": {},
   "outputs": [
    {
     "data": {
      "image/png": "[encoded data removed]",
      "text/plain": [
       "<Figure size 432x288 with 1 Axes>"
      ]
     },
     "metadata": {
      "needs_background": "light"
     },
     "output_type": "display_data"
    }
   ],
   "source": [
    "plt.plot(x,y,'r--',marker='s',linewidth=4,markersize=8)\n",
    "plt.show()"
   ]
  },
  {
   "cell_type": "code",
   "execution_count": 43,
   "metadata": {},
   "outputs": [
    {
     "data": {
      "image/png": "[encoded data removed]",
      "text/plain": [
       "<Figure size 432x288 with 1 Axes>"
      ]
     },
     "metadata": {
      "needs_background": "light"
     },
     "output_type": "display_data"
    }
   ],
   "source": [
    "import numpy as np\n",
    "import pylab as plt\n",
    "teta = np.linspace(0,4*np.pi,50)\n",
    "f = np.cos(teta)\n",
    "plt.plot(teta,f,label='f(teta) = cos(teta)')\n",
    "plt.xlabel('Angulo teta')\n",
    "plt.ylabel('f=cos(teta)')\n",
    "plt.title('ejemplo')\n",
    "plt.legend(loc=1)\n",
    "plt.grid(True)\n",
    "plt.show()"
   ]
  },
  {
   "cell_type": "code",
   "execution_count": 60,
   "metadata": {},
   "outputs": [
    {
     "data": {
      "image/png": "[encoded data removed]",
      "text/plain": [
       "<Figure size 432x288 with 1 Axes>"
      ]
     },
     "metadata": {
      "needs_background": "light"
     },
     "output_type": "display_data"
    }
   ],
   "source": [
    "import numpy as np\n",
    "import pylab as plt\n",
    "datos = np.genfromtxt('Queda_livre.csv',delimiter=',',skip_header=1)\n",
    "x = dados[:,0]\n",
    "y = dados[:,1]\n",
    "plt.plot(x,y)\n",
    "plt.xlabel('Tiempo')\n",
    "plt.ylabel('Aceleración')\n",
    "plt.show()"
   ]
  },
  {
   "cell_type": "code",
   "execution_count": 61,
   "metadata": {},
   "outputs": [
    {
     "data": {
      "image/png": "[encoded data removed]",
      "text/plain": [
       "<Figure size 432x288 with 1 Axes>"
      ]
     },
     "metadata": {
      "needs_background": "light"
     },
     "output_type": "display_data"
    }
   ],
   "source": [
    "##### ONDAS DESFASADAS\n",
    "import numpy as np\n",
    "import pylab as plt\n",
    "\n",
    "t=np.arange(0,1.01,0.01)\n",
    "fi = np.pi/6\n",
    "\n",
    "v1 = np.sin(2*np.pi*t)\n",
    "v2 = np.sin(2*np.pi*t + fi)\n",
    "\n",
    "linea = plt.plot(t,v1,t,v2)\n",
    "plt.setp(linea[0],label='v1(t)=sin(2.\\u03C0.t)',color='r')\n",
    "plt.setp(linea[1],label='v2(t)=sin(2.\\u03C0.t + \\u03C0/6)')\n",
    "\n",
    "plt.title('desface de ondas')\n",
    "plt.legend()\n",
    "plt.grid(True)\n",
    "plt.show()"
   ]
  },
  {
   "cell_type": "code",
   "execution_count": 64,
   "metadata": {},
   "outputs": [
    {
     "data": {
      "image/png": "[encoded data removed]",
      "text/plain": [
       "<Figure size 432x288 with 1 Axes>"
      ]
     },
     "metadata": {
      "needs_background": "light"
     },
     "output_type": "display_data"
    }
   ],
   "source": [
    "##cambio de escala de los datos\n",
    "import numpy as np\n",
    "import pylab as plt\n",
    "\n",
    "tempo, presion1, presion2 = np.loadtxt('pressao.txt',unpack=True)\n",
    "plt.plot(tempo,presion1,label='presion1')\n",
    "plt.plot(tempo,presion2,label='presion2')\n",
    "#se cambiaran las escalas de las \"y\" a escala logaritmica para ver el grafico de una forma mas adecuada\n",
    "plt.yscale('log')\n",
    "\n",
    "plt.legend()\n",
    "plt.show()\n",
    "\n",
    "#se cambiaran las escalas de las \"y\" a escala logaritmica\n"
   ]
  },
  {
   "cell_type": "code",
   "execution_count": 65,
   "metadata": {},
   "outputs": [
    {
     "data": {
      "image/png": "[encoded data removed]",
      "text/plain": [
       "<Figure size 432x288 with 1 Axes>"
      ]
     },
     "metadata": {
      "needs_background": "light"
     },
     "output_type": "display_data"
    }
   ],
   "source": [
    "#grafico Scatter\n",
    "import numpy as np\n",
    "import pylab as plt\n",
    "x = np.random.rand(30)\n",
    "y = np.random.rand(30)\n",
    "plt.scatter(x,y)\n",
    "plt.show()"
   ]
  },
  {
   "cell_type": "code",
   "execution_count": 68,
   "metadata": {},
   "outputs": [
    {
     "data": {
      "image/png": "[encoded data removed]",
      "text/plain": [
       "<Figure size 432x288 with 1 Axes>"
      ]
     },
     "metadata": {
      "needs_background": "light"
     },
     "output_type": "display_data"
    }
   ],
   "source": [
    "#ejemplo\n",
    "import numpy as np\n",
    "import pylab as plt\n",
    "magnitud, temperatura = np.loadtxt('dados_scatter.txt',unpack=True)\n",
    "plt.scatter(magnitud,temperatura,c='r')\n",
    "plt.xlabel('Temperatura')\n",
    "plt.ylabel('Magnitud')\n",
    "plt.show()"
   ]
  },
  {
   "cell_type": "code",
   "execution_count": 71,
   "metadata": {},
   "outputs": [
    {
     "data": {
      "image/png": "[encoded data removed]",
      "text/plain": [
       "<Figure size 432x288 with 1 Axes>"
      ]
     },
     "metadata": {
      "needs_background": "light"
     },
     "output_type": "display_data"
    }
   ],
   "source": [
    "#formacion de imagenes, da colores que representa valores\n",
    "import numpy as np\n",
    "import pylab as plt\n",
    "datos = np.arange(0,1000000)\n",
    "matriz = np.reshape(datos,(1000,1000))\n",
    "plt.imshow(matriz)\n",
    "plt.show()"
   ]
  },
  {
   "cell_type": "code",
   "execution_count": 85,
   "metadata": {},
   "outputs": [
    {
     "data": {
      "image/png": "[encoded data removed]",
      "text/plain": [
       "<Figure size 432x288 with 1 Axes>"
      ]
     },
     "metadata": {
      "needs_background": "light"
     },
     "output_type": "display_data"
    }
   ],
   "source": [
    "import numpy as np\n",
    "import pylab as plt\n",
    "\n",
    "matriz = np.loadtxt('Exemplo_imshow.txt',float)\n",
    "plt.imshow(matriz,origin='lower')\n",
    "#plt.hsv()\n",
    "#plt.jet()\n",
    "#plt.hot()\n",
    "#plt.gray()\n",
    "#plt.bone()\n",
    "#plt.\n",
    "plt.show()"
   ]
  },
  {
   "cell_type": "code",
   "execution_count": 86,
   "metadata": {},
   "outputs": [
    {
     "data": {
      "image/png": "[encoded data removed]",
      "text/plain": [
       "<Figure size 432x288 with 1 Axes>"
      ]
     },
     "metadata": {
      "needs_background": "light"
     },
     "output_type": "display_data"
    }
   ],
   "source": [
    "#ejercicio\n",
    "import numpy as np\n",
    "import pylab as plt\n",
    "\n",
    "imagen = np.loadtxt('circular.txt',float)\n",
    "plt.imshow(imagen)\n",
    "plt.show()"
   ]
  },
  {
   "cell_type": "code",
   "execution_count": 90,
   "metadata": {},
   "outputs": [
    {
     "data": {
      "image/png": "[encoded data removed]",
      "text/plain": [
       "<Figure size 432x288 with 1 Axes>"
      ]
     },
     "metadata": {
      "needs_background": "light"
     },
     "output_type": "display_data"
    }
   ],
   "source": [
    "#GRAFICO 3D\n",
    "import numpy as np\n",
    "import pylab as plt\n",
    "\n",
    "from mpl_toolkits.mplot3d import Axes3D\n",
    "\n",
    "fig = plt.figure()\n",
    "ax = fig.gca(projection='3d')\n",
    "\n",
    "teta = np.linspace(-4*np.pi,4*np.pi,100)\n",
    "x = np.sin(teta)\n",
    "y = np.cos(teta)\n",
    "z = np.arange(0,2,0.02)\n",
    "\n",
    "ax.plot(x,y,z)\n",
    "\n",
    "plt.show()"
   ]
  },
  {
   "cell_type": "code",
   "execution_count": 91,
   "metadata": {},
   "outputs": [
    {
     "data": {
      "image/png": "[encoded data removed]",
      "text/plain": [
       "<Figure size 432x288 with 1 Axes>"
      ]
     },
     "metadata": {
      "needs_background": "light"
     },
     "output_type": "display_data"
    }
   ],
   "source": [
    "#ejemplo 2 funcion meshgrid\n",
    "import numpy as np\n",
    "import pylab as plt\n",
    "from mpl_toolkits.mplot3d import Axes3D\n",
    "\n",
    "fig = plt.figure()\n",
    "ax = fig.gca(projection='3d')\n",
    "\n",
    "x = np.arange(-5,5,0.25)\n",
    "y = np.arange(-5,5,0.25)\n",
    "\n",
    "xm,ym = np.meshgrid(x,y)\n",
    "\n",
    "z = xm**2 + ym**2\n",
    "\n",
    "ax.plot_surface(xm,ym,z)\n",
    "\n",
    "plt.show()"
   ]
  },
  {
   "cell_type": "code",
   "execution_count": 93,
   "metadata": {},
   "outputs": [
    {
     "data": {
      "image/png": "[encoded data removed]",
      "text/plain": [
       "<Figure size 432x288 with 2 Axes>"
      ]
     },
     "metadata": {
      "needs_background": "light"
     },
     "output_type": "display_data"
    }
   ],
   "source": [
    "#INTEGRAL\n",
    "import numpy as np\n",
    "import pylab as plt\n",
    "\n",
    "x = np.linspace(0,10,20)\n",
    "y = x**2 - 5*x + 6\n",
    "\n",
    "fig,(ax1,ax2) = plt.subplots(1,2)\n",
    "\n",
    "ax1.plot(x,y,label='f(x)=x²-5x+6')\n",
    "ax1.set_xlabel('x')\n",
    "ax1.set_ylabel('f(x)')\n",
    "ax1.legend()\n",
    "\n",
    "ax2.fill_between(x,0,y,label='I(x)=x³/3 - 5x²/2 + 6x')\n",
    "ax2.set_xlabel('x')\n",
    "ax2.set_ylabel('f(x)')\n",
    "ax2.legend()\n",
    "\n",
    "plt.show()"
   ]
  },
  {
   "cell_type": "code",
   "execution_count": 100,
   "metadata": {},
   "outputs": [
    {
     "name": "stdout",
     "output_type": "stream",
     "text": [
      "143.3333333499996\n"
     ]
    }
   ],
   "source": [
    "#REGLA TRAPEZOIDAL\n",
    "\n",
    "def y(x):\n",
    "    return x**2 - 5*x + 6\n",
    "\n",
    "N = 100000    #aumentando el numero de trapecios, h se volveria mas pequeño por lo que la respuesta queda mas precisa,\n",
    "a = 0.0       #pero deja cada vez mas lento\n",
    "b = 10.0\n",
    "h = (b-a)/N\n",
    "\n",
    "constante = 0.5*(y(a)+y(b))\n",
    "\n",
    "suma = 0\n",
    "for k in range(1,N):\n",
    "    suma += y(a+k*h)\n",
    "\n",
    "I = h*(constante+suma)\n",
    "\n",
    "print(I)"
   ]
  },
  {
   "cell_type": "code",
   "execution_count": 118,
   "metadata": {},
   "outputs": [
    {
     "name": "stdout",
     "output_type": "stream",
     "text": [
      "82920.79207920791\n"
     ]
    },
    {
     "data": {
      "image/png": "[encoded data removed]",
      "text/plain": [
       "<Figure size 432x288 with 1 Axes>"
      ]
     },
     "metadata": {
      "needs_background": "light"
     },
     "output_type": "display_data"
    }
   ],
   "source": [
    "import numpy as np\n",
    "import pylab as plt\n",
    "\n",
    "tiempo,velocidad = np.loadtxt('velocidade.txt',unpack=True)\n",
    "\n",
    "N = len(tiempo)\n",
    "a = tiempo[0]\n",
    "b = tiempo[N-1]\n",
    "h = (b-a)/N\n",
    "\n",
    "distancia = np.empty(N)\n",
    "distancia[0] = 0\n",
    "\n",
    "for k in range(1,N):\n",
    "    distancia[k] = distancia[k-1] + (velocidad[k-1] + velocidad[k])*h/2\n",
    "\n",
    "print(distancia[k])\n",
    "\n",
    "plt.plot(tiempo, velocidad)\n",
    "plt.show()"
   ]
  },
  {
   "cell_type": "code",
   "execution_count": 115,
   "metadata": {},
   "outputs": [
    {
     "name": "stdout",
     "output_type": "stream",
     "text": [
      "6.616544593139664 m/s\n"
     ]
    }
   ],
   "source": [
    "import numpy as np\n",
    "\n",
    "tiempo,aceleracion = np.genfromtxt('Queda_livre.csv',delimiter=',',skip_header=1,unpack=True)\n",
    "\n",
    "N = len(tiempo)\n",
    "a = tiempo[0]/1000\n",
    "b = tiempo[N-1]/1000\n",
    "h = (b-a)/N\n",
    "\n",
    "velocidad = np.empty(N)\n",
    "velocidad[0] = 0\n",
    "\n",
    "for k in range(1,N):\n",
    "    velocidad[k] = velocidad[k-1] + (aceleracion[k-1]+aceleracion[k])*h/2\n",
    "\n",
    "print(velocidad[k],'m/s')"
   ]
  },
  {
   "cell_type": "code",
   "execution_count": 113,
   "metadata": {},
   "outputs": [
    {
     "name": "stdout",
     "output_type": "stream",
     "text": [
      "6.616544593139664 m/s\n"
     ]
    }
   ],
   "source": [
    "import numpy as np\n",
    "\n",
    "dados = np.genfromtxt('Queda_livre.csv',delimiter=',',skip_header=1)\n",
    "tempo = dados[:,0]/(1000)\n",
    "acel = dados[:,1]\n",
    "\n",
    "N = len(tempo)\n",
    "a = tempo[0]\n",
    "b = tempo[N-1]\n",
    "h = (b-a)/N\n",
    "\n",
    "velocidade = np.empty(N)\n",
    "velocidade[0] = 0\n",
    "\n",
    "for k in range(1,N):\n",
    "    velocidade[k] = velocidade[k-1]+(acel[k-1]+acel[k])*h/2\n",
    "\n",
    "print(velocidade[k],'m/s')"
   ]
  },
  {
   "cell_type": "code",
   "execution_count": 126,
   "metadata": {},
   "outputs": [
    {
     "name": "stdout",
     "output_type": "stream",
     "text": [
      "8.137548514851487\n"
     ]
    },
    {
     "data": {
      "image/png": "[encoded data removed]",
      "text/plain": [
       "<Figure size 432x288 with 1 Axes>"
      ]
     },
     "metadata": {
      "needs_background": "light"
     },
     "output_type": "display_data"
    }
   ],
   "source": [
    "import numpy as np\n",
    "import pylab as plt\n",
    "\n",
    "tiempo,velocidad = np.loadtxt('velocities.txt', unpack=True)\n",
    "\n",
    "N = len(tiempo)\n",
    "a = tiempo[0]\n",
    "b = tiempo[N-1]\n",
    "h = (b-a)/N\n",
    "\n",
    "distancia = np.empty(N)\n",
    "distancia[0] = 0\n",
    "\n",
    "for k in range(1,N):\n",
    "    distancia[k] = distancia[k-1] + (velocidad[k-1] + velocidad[k])*h/2\n",
    "\n",
    "print(distancia[k])\n",
    "\n",
    "plt.fill_between(tiempo,velocidad)\n",
    "plt.show()\n",
    "    "
   ]
  },
  {
   "cell_type": "code",
   "execution_count": 130,
   "metadata": {},
   "outputs": [
    {
     "name": "stdout",
     "output_type": "stream",
     "text": [
      "82920.79207920791\n"
     ]
    }
   ],
   "source": [
    "#Regla trapezoidal via numpy\n",
    "import numpy as np\n",
    "import pylab as plt\n",
    "\n",
    "tiempo,velocidad = np.loadtxt('velocidade.txt',unpack=True)\n",
    "\n",
    "N = len(tiempo)\n",
    "a = tiempo[0]\n",
    "b = tiempo[N-1]\n",
    "h = (b-a)/N\n",
    "\n",
    "distancia1 = np.trapz(velocidad,dx=h)\n",
    "print(distancia1)"
   ]
  },
  {
   "cell_type": "code",
   "execution_count": 131,
   "metadata": {},
   "outputs": [
    {
     "name": "stdout",
     "output_type": "stream",
     "text": [
      "143.33333333333331\n"
     ]
    }
   ],
   "source": [
    "#REGLA DE SIMPSON\n",
    "def y(x):\n",
    "    return x**2 - 5*x + 6\n",
    "N= 10\n",
    "a= 0.0\n",
    "b= 10.0\n",
    "h= (b-a)/N\n",
    "suma1 = 0\n",
    "\n",
    "constante = y(a)+y(b)\n",
    "for k in range(1,N,2):\n",
    "    suma1 += y(a+k*h)\n",
    "\n",
    "suma2 = 0\n",
    "\n",
    "for k in range(2,N,2):\n",
    "    suma2 += y(a+k*h)\n",
    "    \n",
    "I = (h/3)*(constante + 4*suma1 + 2*suma2)\n",
    "print(I)"
   ]
  },
  {
   "cell_type": "code",
   "execution_count": 134,
   "metadata": {},
   "outputs": [
    {
     "name": "stdout",
     "output_type": "stream",
     "text": [
      "143.33333333333331\n"
     ]
    }
   ],
   "source": [
    "#REGLA DE SIMPSOM VIA SCIPY\n",
    "from scipy import integrate\n",
    "import numpy as np\n",
    "\n",
    "x = np.linspace(0,10,11) #(11) para considerar el punto de 0 hasta el 10\n",
    "y = x**2 - 5*x + 6\n",
    "\n",
    "N= 10\n",
    "a= 0.0\n",
    "b= 10.0\n",
    "h= (b-a)/N\n",
    "\n",
    "I2 = integrate.simps(y,dx=h)\n",
    "\n",
    "print(I2)"
   ]
  },
  {
   "cell_type": "code",
   "execution_count": 136,
   "metadata": {},
   "outputs": [
    {
     "name": "stdout",
     "output_type": "stream",
     "text": [
      "12.666666666666668\n"
     ]
    }
   ],
   "source": [
    "#CUADRATURA GAUSSIANA\n",
    "#cuandratura gaussiana o numerica consiste en obtner un valor real que aproxima al valor de la integral definida\n",
    "#cuando no se puede calcular la integral analiticamente\n",
    "#cuando conocemos la funcion en apenas unos puntos\n",
    "#aproximamos la funcion por una suma finita en la cual f es mostrada en algunos puntos llamada forma de cuadratura.\n",
    "from math import sqrt\n",
    "\n",
    "def f(x):\n",
    "    return x**2 - 5*x + 6\n",
    "\n",
    "c_0, c_1 = 1.0,1.0\n",
    "x_0, x_1 = -1/sqrt(3), 1/sqrt(3)\n",
    "\n",
    "I = c_0*f(x_0) + c_1*f(x_1)\n",
    "print(I)\n"
   ]
  },
  {
   "cell_type": "code",
   "execution_count": 138,
   "metadata": {},
   "outputs": [
    {
     "name": "stdout",
     "output_type": "stream",
     "text": [
      "(0.24999999999999997, 5.539061329123429e-15)\n",
      "0.24999999999999997\n"
     ]
    }
   ],
   "source": [
    "##INTEGRALES DOBLES\n",
    "from scipy import integrate\n",
    "funcion = lambda x,y: x*y\n",
    "I =  integrate.dblquad(funcion,0,1,lambda x:0, lambda x:1)\n",
    "print(I) #con su error\n",
    "print(I[0])\n",
    "\n"
   ]
  },
  {
   "cell_type": "code",
   "execution_count": 139,
   "metadata": {},
   "outputs": [
    {
     "name": "stdout",
     "output_type": "stream",
     "text": [
      "(0.125, 5.515032205777789e-15)\n"
     ]
    }
   ],
   "source": [
    "from scipy import integrate\n",
    "funcion = lambda x,y: x*y\n",
    "I =  integrate.dblquad(funcion,0,1,lambda x:0, lambda x:x)\n",
    "print(I)"
   ]
  },
  {
   "cell_type": "code",
   "execution_count": 140,
   "metadata": {},
   "outputs": [
    {
     "data": {
      "text/plain": [
       "-4.9900000000000055"
      ]
     },
     "execution_count": 140,
     "metadata": {},
     "output_type": "execute_result"
    }
   ],
   "source": [
    "###DERIVADAS\n",
    "import numpy as np\n",
    "y = lambda x: x**2 - 5*x + 6\n",
    "def derivada_avanzar(funcion,a,h=0.01):\n",
    "    return (funcion(a+h)-funcion(a))/h\n",
    "\n",
    "derivada_avanzar(y,0) #0 es el punto \"x\"\n"
   ]
  },
  {
   "cell_type": "code",
   "execution_count": 141,
   "metadata": {},
   "outputs": [
    {
     "data": {
      "text/plain": [
       "-5.009999999999959"
      ]
     },
     "execution_count": 141,
     "metadata": {},
     "output_type": "execute_result"
    }
   ],
   "source": [
    "import numpy as np\n",
    "y = lambda x: x**2 - 5*x + 6\n",
    "def derivada_retroceder(funcion,a,h=0.01):\n",
    "    return (funcion(a)-funcion(a-h))/h\n",
    "\n",
    "derivada_retroceder(y,0)"
   ]
  },
  {
   "cell_type": "code",
   "execution_count": 146,
   "metadata": {},
   "outputs": [
    {
     "data": {
      "text/plain": [
       "-5.000000000000071"
      ]
     },
     "execution_count": 146,
     "metadata": {},
     "output_type": "execute_result"
    }
   ],
   "source": [
    "#metodo central para tener una respuesta mas precisa\n",
    "y = lambda x: x**2 - 5*x + 6\n",
    "def derivada_central(funcion,a,h=0.01):\n",
    "    return (funcion(a+(h/2))-funcion(a-(h/2)))/(h)\n",
    "\n",
    "derivada_central(y,0)"
   ]
  },
  {
   "cell_type": "code",
   "execution_count": 147,
   "metadata": {},
   "outputs": [
    {
     "data": {
      "text/plain": [
       "-4.999999999999982"
      ]
     },
     "execution_count": 147,
     "metadata": {},
     "output_type": "execute_result"
    }
   ],
   "source": [
    "y = lambda x: x**2 - 5*x + 6\n",
    "def derivada_central(funcion,a,h=0.01):\n",
    "    return (funcion(a+h)-funcion(a-h))/(2*h)\n",
    "\n",
    "derivada_central(y,0)"
   ]
  },
  {
   "cell_type": "code",
   "execution_count": 149,
   "metadata": {},
   "outputs": [
    {
     "data": {
      "image/png": "[encoded data removed]",
      "text/plain": [
       "<Figure size 432x288 with 1 Axes>"
      ]
     },
     "metadata": {
      "needs_background": "light"
     },
     "output_type": "display_data"
    }
   ],
   "source": [
    "#grafico de la derivada\n",
    "import pylab as plt\n",
    "dy = np.empty(10)\n",
    "for i in range(0,10):\n",
    "    plt.plot(i,derivada_central(y,i),'ro')\n",
    "\n",
    "plt.show()"
   ]
  },
  {
   "cell_type": "code",
   "execution_count": 151,
   "metadata": {},
   "outputs": [
    {
     "data": {
      "image/png": "[encoded data removed]",
      "text/plain": [
       "<Figure size 432x288 with 1 Axes>"
      ]
     },
     "metadata": {
      "needs_background": "light"
     },
     "output_type": "display_data"
    }
   ],
   "source": [
    "import numpy as np\n",
    "import pylab as plt\n",
    "\n",
    "tiempo, velocidad = np.loadtxt('velocidade.txt',unpack=True)\n",
    "# a=dv/dt\n",
    "N = len(velocidad)\n",
    "aceleracion = np.empty(N)\n",
    "\n",
    "aceleracion[0] = (velocidad[1]-velocidad[0])/(tiempo[1]-tiempo[0])\n",
    "aceleracion[N-1] = (velocidad[N-1]-velocidad[N-2])/(tiempo[N-1]-tiempo[N-2])\n",
    "\n",
    "for i in range(1,N-1):\n",
    "    aceleracion[i] = (velocidad[i+1]-velocidad[i-1])/(tiempo[i+1]-tiempo[i-1])\n",
    "\n",
    "plt.plot(tiempo,velocidad,label='velocidad')\n",
    "plt.plot(tiempo,aceleracion,label='aceleracion')\n",
    "plt.legend()\n",
    "plt.show()"
   ]
  },
  {
   "cell_type": "code",
   "execution_count": 152,
   "metadata": {},
   "outputs": [
    {
     "data": {
      "text/plain": [
       "1.9999999999953388"
      ]
     },
     "execution_count": 152,
     "metadata": {},
     "output_type": "execute_result"
    }
   ],
   "source": [
    "#SEGUNDA DERIVADA\n",
    "import numpy as np\n",
    "def derivada_segunda(f,x,h=0.01):\n",
    "    return (f(x+h)-2*f(x)+f(x-h))/(h**2)\n",
    "\n",
    "y = lambda x: x**2 - 5*x + 6\n",
    "\n",
    "derivada_segunda(y,0)"
   ]
  },
  {
   "cell_type": "code",
   "execution_count": 156,
   "metadata": {},
   "outputs": [
    {
     "data": {
      "text/plain": [
       "0.7071038349119699"
      ]
     },
     "execution_count": 156,
     "metadata": {},
     "output_type": "execute_result"
    }
   ],
   "source": [
    "#DERIVADA PARCIAL\n",
    "import numpy as np\n",
    "def derivada_parcial(f,x,y,h=0.01):\n",
    "    return (f(x+h/2,y+h/2)-f(x-h/2,y+h/2)-f(x+h/2,y-h/2)+f(x-h/2,y-h/2))/(h**2)\n",
    "\n",
    "f = lambda x,y: x*np.sin(y)\n",
    "#derivada con relacion a y: x.cos(y)\n",
    "#derivada con relacion a x: cos(y)\n",
    "\n",
    "d_parcial = derivada_parcial(f,0,np.pi/4)\n",
    "d_parcial"
   ]
  },
  {
   "cell_type": "code",
   "execution_count": 163,
   "metadata": {},
   "outputs": [
    {
     "data": {
      "text/latex": [
       "$\\displaystyle 2 x - 5$"
      ],
      "text/plain": [
       "2*x - 5"
      ]
     },
     "execution_count": 163,
     "metadata": {},
     "output_type": "execute_result"
    }
   ],
   "source": [
    "#DERIVADA CON SYMPY\n",
    "from sympy import symbols,cos,diff\n",
    "x = symbols('x')\n",
    "diff(x**2 - 5*x + 6, x, 1) #lo que quiero derivar, la variable, la orden"
   ]
  },
  {
   "cell_type": "code",
   "execution_count": 164,
   "metadata": {},
   "outputs": [
    {
     "data": {
      "text/latex": [
       "$\\displaystyle 2$"
      ],
      "text/plain": [
       "2"
      ]
     },
     "execution_count": 164,
     "metadata": {},
     "output_type": "execute_result"
    }
   ],
   "source": [
    "diff(x**2 - 5*x + 6, x, 2)"
   ]
  },
  {
   "cell_type": "code",
   "execution_count": 165,
   "metadata": {},
   "outputs": [
    {
     "data": {
      "text/latex": [
       "$\\displaystyle - 2 \\sin{\\left(x \\right)} \\cos{\\left(x \\right)}$"
      ],
      "text/plain": [
       "-2*sin(x)*cos(x)"
      ]
     },
     "execution_count": 165,
     "metadata": {},
     "output_type": "execute_result"
    }
   ],
   "source": [
    "diff(cos(x)**2, x, 1)"
   ]
  },
  {
   "cell_type": "code",
   "execution_count": 166,
   "metadata": {},
   "outputs": [
    {
     "data": {
      "text/latex": [
       "$\\displaystyle \\frac{x^{3}}{3}$"
      ],
      "text/plain": [
       "x**3/3"
      ]
     },
     "execution_count": 166,
     "metadata": {},
     "output_type": "execute_result"
    }
   ],
   "source": [
    "#INTEGRAL CON SYMPY\n",
    "from sympy import symbols, cos, log, integrate\n",
    "x = symbols('x')\n",
    "integrate(x**2,x)"
   ]
  },
  {
   "cell_type": "code",
   "execution_count": 167,
   "metadata": {},
   "outputs": [
    {
     "data": {
      "text/latex": [
       "$\\displaystyle \\sin{\\left(x \\right)}$"
      ],
      "text/plain": [
       "sin(x)"
      ]
     },
     "execution_count": 167,
     "metadata": {},
     "output_type": "execute_result"
    }
   ],
   "source": [
    "integrate(cos(x),x)"
   ]
  },
  {
   "cell_type": "code",
   "execution_count": 168,
   "metadata": {},
   "outputs": [
    {
     "data": {
      "text/latex": [
       "$\\displaystyle x \\log{\\left(x \\right)} - x$"
      ],
      "text/plain": [
       "x*log(x) - x"
      ]
     },
     "execution_count": 168,
     "metadata": {},
     "output_type": "execute_result"
    }
   ],
   "source": [
    "integrate(log(x),x)  #log(X) = ln(x)"
   ]
  },
  {
   "cell_type": "code",
   "execution_count": 169,
   "metadata": {},
   "outputs": [
    {
     "data": {
      "text/latex": [
       "$\\displaystyle \\frac{x^{2} \\sin{\\left(\\theta \\right)}}{2}$"
      ],
      "text/plain": [
       "x**2*sin(theta)/2"
      ]
     },
     "execution_count": 169,
     "metadata": {},
     "output_type": "execute_result"
    }
   ],
   "source": [
    "theta = symbols('theta')\n",
    "funcion = x*cos(theta)\n",
    "integrate(funcion,x,theta) #integral doble con respecto a x y luego con respecto a theta"
   ]
  },
  {
   "cell_type": "code",
   "execution_count": 172,
   "metadata": {},
   "outputs": [
    {
     "data": {
      "text/latex": [
       "$\\displaystyle 1$"
      ],
      "text/plain": [
       "1"
      ]
     },
     "execution_count": 172,
     "metadata": {},
     "output_type": "execute_result"
    }
   ],
   "source": [
    "#SIMPLIFICACION \n",
    "from sympy import symbols, cos, sin, simplify\n",
    "x = symbols('x')\n",
    "simplify(sin(x)**2 + cos(x)**2)"
   ]
  },
  {
   "cell_type": "code",
   "execution_count": 173,
   "metadata": {},
   "outputs": [
    {
     "data": {
      "text/latex": [
       "$\\displaystyle 1$"
      ],
      "text/plain": [
       "1"
      ]
     },
     "execution_count": 173,
     "metadata": {},
     "output_type": "execute_result"
    }
   ],
   "source": [
    "#LIMITE con SYMPY\n",
    "from sympy import symbols, limit, sin\n",
    "x = symbols('x')\n",
    "limit(sin(x)/x,x,0) #limite de la funcion, con respecto a x, cuando tiende a: 0\n"
   ]
  },
  {
   "cell_type": "code",
   "execution_count": 174,
   "metadata": {},
   "outputs": [
    {
     "data": {
      "text/latex": [
       "$\\displaystyle 3$"
      ],
      "text/plain": [
       "3"
      ]
     },
     "execution_count": 174,
     "metadata": {},
     "output_type": "execute_result"
    }
   ],
   "source": [
    "limit((x**2 + x - 2)/(x-1),x,1)"
   ]
  },
  {
   "cell_type": "code",
   "execution_count": null,
   "metadata": {},
   "outputs": [],
   "source": []
  }
 ],
 "metadata": {
  "kernelspec": {
   "display_name": "Python 3",
   "language": "python",
   "name": "python3"
  },
  "language_info": {
   "codemirror_mode": {
    "name": "ipython",
    "version": 3
   },
   "file_extension": ".py",
   "mimetype": "text/x-python",
   "name": "python",
   "nbconvert_exporter": "python",
   "pygments_lexer": "ipython3",
   "version": "3.7.7"
  }
 },
 "nbformat": 4,
 "nbformat_minor": 4
}
